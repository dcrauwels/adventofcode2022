{
 "cells": [
  {
   "cell_type": "markdown",
   "id": "c1e12aa1",
   "metadata": {},
   "source": [
    "# Day 1: Calorie Counting\n",
    "## Part one\n",
    "Santa's reindeer typically eat regular reindeer food, but they need a lot of magical energy to deliver presents on Christmas. For that, their favorite snack is a special type of star fruit that only grows deep in the jungle. The Elves have brought you on their annual expedition to the grove where the fruit grows.\n",
    "\n",
    "To supply enough magical energy, the expedition needs to retrieve a minimum of fifty stars by December 25th. Although the Elves assure you that the grove has plenty of fruit, you decide to grab any fruit you see along the way, just in case.\n",
    "\n",
    "Collect stars by solving puzzles. Two puzzles will be made available on each day in the Advent calendar; the second puzzle is unlocked when you complete the first. Each puzzle grants one star. Good luck!\n",
    "\n",
    "The jungle must be too overgrown and difficult to navigate in vehicles or access from the air; the Elves' expedition traditionally goes on foot. As your boats approach land, the Elves begin taking inventory of their supplies. One important consideration is food - in particular, the number of Calories each Elf is carrying (your puzzle input).\n",
    "\n",
    "The Elves take turns writing down the number of Calories contained by the various meals, snacks, rations, etc. that they've brought with them, one item per line. Each Elf separates their own inventory from the previous Elf's inventory (if any) by a blank line.\n",
    "\n",
    "For example, suppose the Elves finish writing their items' Calories and end up with the following list:\n",
    "\n",
    "* 1000\n",
    "* 2000\n",
    "* 3000\n",
    "* \n",
    "* 4000\n",
    "* \n",
    "* 5000\n",
    "* 6000\n",
    "* \n",
    "* 7000\n",
    "* 8000\n",
    "* 9000\n",
    "* \n",
    "* 10000\n",
    "\n",
    "This list represents the Calories of the food carried by five Elves:\n",
    "\n",
    "The first Elf is carrying food with 1000, 2000, and 3000 Calories, a total of 6000 Calories.\n",
    "The second Elf is carrying one food item with 4000 Calories.\n",
    "The third Elf is carrying food with 5000 and 6000 Calories, a total of 11000 Calories.\n",
    "The fourth Elf is carrying food with 7000, 8000, and 9000 Calories, a total of 24000 Calories.\n",
    "The fifth Elf is carrying one food item with 10000 Calories.\n",
    "In case the Elves get hungry and need extra snacks, they need to know which Elf to ask: they'd like to know how many Calories are being carried by the Elf carrying the most Calories. In the example above, this is 24000 (carried by the fourth Elf).\n",
    "\n",
    "Find the Elf carrying the most Calories. How many total Calories is that Elf carrying?"
   ]
  },
  {
   "cell_type": "code",
   "execution_count": 22,
   "id": "8bfd3795",
   "metadata": {},
   "outputs": [],
   "source": [
    "# Define function\n",
    "def calorie_counter(file):\n",
    "    # Init elf dict to match elf number to total calorie count.\n",
    "    elf_dict = {}\n",
    "\n",
    "    # Read file\n",
    "    with open(file, 'r') as f:\n",
    "        food_inventory = f.readlines()\n",
    "        food_inventory = map(str.strip, food_inventory)\n",
    "\n",
    "    # Iterate over food_inventory to populate elf_dict\n",
    "    elf_counter = 1\n",
    "    for food_item in food_inventory:\n",
    "        # Interpret empty lines as new elf\n",
    "        if food_item == '':\n",
    "            elf_counter += 1\n",
    "\n",
    "        #Populate elf_dict\n",
    "        else:\n",
    "            if elf_counter not in elf_dict:\n",
    "                elf_dict[elf_counter] = int(food_item)\n",
    "            else:\n",
    "                elf_dict[elf_counter] += int(food_item)\n",
    "\n",
    "    # print highest cal elf with value\n",
    "    return elf_dict\n"
   ]
  },
  {
   "cell_type": "code",
   "execution_count": 23,
   "id": "89caee77",
   "metadata": {},
   "outputs": [
    {
     "name": "stdout",
     "output_type": "stream",
     "text": [
      "The elf with the highest calorie count is elf number 4. It is carrying 24000 calories.\n"
     ]
    }
   ],
   "source": [
    "elf_dict = calorie_counter('01 Sample input.txt')\n",
    "top_elf = max(elf_dict, key = elf_dict.get)\n",
    "print(f\"The elf with the highest calorie count is elf number {top_elf}. It is carrying {elf_dict[top_elf]} calories.\")"
   ]
  },
  {
   "cell_type": "code",
   "execution_count": 26,
   "id": "162ec041",
   "metadata": {},
   "outputs": [
    {
     "name": "stdout",
     "output_type": "stream",
     "text": [
      "218 72602\n"
     ]
    }
   ],
   "source": [
    "# Now for real\n",
    "elf_dict = calorie_counter('01 input.txt')\n",
    "top_elf = max(elf_dict, key = elf_dict.get)\n",
    "print(top_elf, elf_dict[top_elf])\n"
   ]
  },
  {
   "cell_type": "markdown",
   "id": "d9e584ef",
   "metadata": {},
   "source": [
    "The answer was correct!"
   ]
  },
  {
   "cell_type": "markdown",
   "id": "36662f64",
   "metadata": {},
   "source": [
    "## Part Two\n",
    "By the time you calculate the answer to the Elves' question, they've already realized that the Elf carrying the most Calories of food might eventually run out of snacks.\n",
    "\n",
    "To avoid this unacceptable situation, the Elves would instead like to know the total Calories carried by the top three Elves carrying the most Calories. That way, even if one of those Elves runs out of snacks, they still have two backups.\n",
    "\n",
    "In the example above, the top three Elves are the fourth Elf (with 24000 Calories), then the third Elf (with 11000 Calories), then the fifth Elf (with 10000 Calories). The sum of the Calories carried by these three elves is 45000.\n",
    "\n",
    "Find the top three Elves carrying the most Calories. How many Calories are those Elves carrying in total?"
   ]
  },
  {
   "cell_type": "code",
   "execution_count": 31,
   "id": "89fb27fd",
   "metadata": {},
   "outputs": [
    {
     "data": {
      "text/plain": [
       "207410"
      ]
     },
     "execution_count": 31,
     "metadata": {},
     "output_type": "execute_result"
    }
   ],
   "source": [
    "# I'll take a sloppy solution here, given that the actual elf indices are irrelevant\n",
    "top_elves = sorted(elf_dict.values(), reverse = True)\n",
    "sum(top_elves[0:3])"
   ]
  },
  {
   "cell_type": "markdown",
   "id": "31732326",
   "metadata": {},
   "source": [
    "Correct!"
   ]
  },
  {
   "cell_type": "code",
   "execution_count": null,
   "id": "c5e3cf1a",
   "metadata": {},
   "outputs": [],
   "source": []
  }
 ],
 "metadata": {
  "kernelspec": {
   "display_name": "Python 3 (ipykernel)",
   "language": "python",
   "name": "python3"
  },
  "language_info": {
   "codemirror_mode": {
    "name": "ipython",
    "version": 3
   },
   "file_extension": ".py",
   "mimetype": "text/x-python",
   "name": "python",
   "nbconvert_exporter": "python",
   "pygments_lexer": "ipython3",
   "version": "3.9.13"
  }
 },
 "nbformat": 4,
 "nbformat_minor": 5
}
