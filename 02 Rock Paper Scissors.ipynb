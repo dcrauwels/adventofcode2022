{
 "cells": [
  {
   "cell_type": "markdown",
   "id": "a527ac3b",
   "metadata": {},
   "source": [
    "# Day 2: Rock Paper Scissors\n",
    "## Part one\n",
    "The Elves begin to set up camp on the beach. To decide whose tent gets to be closest to the snack storage, a giant Rock Paper Scissors tournament is already in progress.\n",
    "\n",
    "Rock Paper Scissors is a game between two players. Each game contains many rounds; in each round, the players each simultaneously choose one of Rock, Paper, or Scissors using a hand shape. Then, a winner for that round is selected: Rock defeats Scissors, Scissors defeats Paper, and Paper defeats Rock. If both players choose the same shape, the round instead ends in a draw.\n",
    "\n",
    "Appreciative of your help yesterday, one Elf gives you an encrypted strategy guide (your puzzle input) that they say will be sure to help you win. \"The first column is what your opponent is going to play: A for Rock, B for Paper, and C for Scissors. The second column--\" Suddenly, the Elf is called away to help with someone's tent.\n",
    "\n",
    "The second column, you reason, must be what you should play in response: X for Rock, Y for Paper, and Z for Scissors. Winning every time would be suspicious, so the responses must have been carefully chosen.\n",
    "\n",
    "The winner of the whole tournament is the player with the highest score. Your total score is the sum of your scores for each round. The score for a single round is the score for the shape you selected (1 for Rock, 2 for Paper, and 3 for Scissors) plus the score for the outcome of the round (0 if you lost, 3 if the round was a draw, and 6 if you won).\n",
    "\n",
    "Since you can't be sure if the Elf is trying to help you or trick you, you should calculate the score you would get if you were to follow the strategy guide.\n",
    "\n",
    "For example, suppose you were given the following strategy guide:\n",
    "\n",
    "- A Y\n",
    "- B X\n",
    "- C Z\n",
    "\n",
    "This strategy guide predicts and recommends the following:\n",
    "\n",
    "In the first round, your opponent will choose Rock (A), and you should choose Paper (Y). This ends in a win for you with a score of 8 (2 because you chose Paper + 6 because you won).\n",
    "In the second round, your opponent will choose Paper (B), and you should choose Rock (X). This ends in a loss for you with a score of 1 (1 + 0).\n",
    "The third round is a draw with both players choosing Scissors, giving you a score of 3 + 3 = 6.\n",
    "In this example, if you were to follow the strategy guide, you would get a total score of 15 (8 + 1 + 6).\n",
    "\n",
    "What would your total score be if everything goes exactly according to your strategy guide?"
   ]
  },
  {
   "cell_type": "code",
   "execution_count": 1,
   "id": "1b110bad",
   "metadata": {},
   "outputs": [],
   "source": [
    "# Build dict to match ABC to XYZ, XYZ to 123\n",
    "abc_xyz = {'A': 'X', 'B': 'Y', 'C': 'Z'}\n",
    "xyz_123 = {'X': 1, 'Y': 2, 'Z': 3}\n",
    "\n",
    "# Define function to calculate match result\n",
    "def calculate_match_result(opponent_play, own_play):\n",
    "    # Start with the base value from xyz_123\n",
    "    result = xyz_123[own_play]\n",
    "    \n",
    "    # Then add the 6 for win, 3 for draw, 0 for loss. Probably a more elegant solution for this\n",
    "    # Given that switch statements are not supported in IPython (i.e. Jupyter) yet we use elif chains\n",
    "    if opponent_play == 'A':\n",
    "        if own_play == 'X':\n",
    "            result += 3\n",
    "        elif own_play == 'Y':\n",
    "            result += 6\n",
    "        elif own_play == 'Z':\n",
    "            pass\n",
    "    elif opponent_play == 'B':\n",
    "        if own_play == 'X':\n",
    "            pass\n",
    "        elif own_play == 'Y':\n",
    "            result += 3\n",
    "        elif own_play == 'Z':\n",
    "            result += 6\n",
    "    elif opponent_play == 'C':\n",
    "        if own_play == 'X':\n",
    "            result += 6\n",
    "        elif own_play == 'Y':\n",
    "            pass\n",
    "        elif own_play == 'Z':\n",
    "            result += 3\n",
    "\n",
    "    return result"
   ]
  },
  {
   "cell_type": "code",
   "execution_count": 12,
   "id": "cc94b020",
   "metadata": {},
   "outputs": [
    {
     "name": "stdout",
     "output_type": "stream",
     "text": [
      "12679\n"
     ]
    }
   ],
   "source": [
    "\n",
    "\n",
    "# Open file\n",
    "with open('02 input.txt', 'r') as f:\n",
    "    playbook = map(str.strip, f.readlines())\n",
    "\n",
    "# Temp test\n",
    "#playbook = [\"A Y\", \"B X\", \"C Z\"]\n",
    "\n",
    "# Iterate over lines in input to calculate score\n",
    "final_score = 0\n",
    "for p in playbook:\n",
    "    play = p.split(\" \")\n",
    "    final_score += calculate_match_result(play[0], play[1])\n",
    "    \n",
    "print(final_score)"
   ]
  },
  {
   "cell_type": "markdown",
   "id": "b87c21de",
   "metadata": {},
   "source": [
    "Correct!"
   ]
  },
  {
   "cell_type": "markdown",
   "id": "d8288069",
   "metadata": {},
   "source": [
    "## Part two\n",
    "The Elf finishes helping with the tent and sneaks back over to you. \"Anyway, the second column says how the round needs to end: X means you need to lose, Y means you need to end the round in a draw, and Z means you need to win. Good luck!\"\n",
    "\n",
    "The total score is still calculated in the same way, but now you need to figure out what shape to choose so the round ends as indicated. The example above now goes like this:\n",
    "\n",
    "In the first round, your opponent will choose Rock (A), and you need the round to end in a draw (Y), so you also choose Rock. This gives you a score of 1 + 3 = 4.\n",
    "In the second round, your opponent will choose Paper (B), and you choose Rock so you lose (X) with a score of 1 + 0 = 1.\n",
    "In the third round, you will defeat your opponent's Scissors with Rock for a score of 1 + 6 = 7.\n",
    "Now that you're correctly decrypting the ultra top secret strategy guide, you would get a total score of 12.\n",
    "\n",
    "Following the Elf's instructions for the second column, what would your total score be if everything goes exactly according to your strategy guide?"
   ]
  },
  {
   "cell_type": "code",
   "execution_count": null,
   "id": "5c50d52d",
   "metadata": {},
   "outputs": [],
   "source": [
    "# We need a new function to calculate the match result. This time, the easy part is calculating the 6, 3, 0 point result.\n",
    "# The hard part is deducing what play you made to win, lose, draw so you can calculate the corresponding points for picking\n",
    "# rock, paper or scissors.\n",
    "\n",
    "# Build dict to match XYZ to 036\n",
    "xyz_036 = {'X': 0, 'Y': 3, 'Z': 6}\n",
    "\n",
    "# Define function to calculate match result\n",
    "def calculate_match_result_correctly(opponent_play, match_result):\n",
    "    # Start with the base value from xyz_036\n",
    "    result = xyz_036[match_result]\n",
    "    \n",
    "    # Now we need a logic tree for determining what play was made\n",
    "    # Given that switch statements are not supported in IPython (i.e. Jupyter) yet we use elif chains\n",
    "    # For A, losing means scissors @ 3 points, draw means rock @ 1 point, winning means paper @ 2 points.\n",
    "    # For B, losing means rock @ 1 point, draw means paper @ 2 points, winning means scissors @ 3 points.\n",
    "    # For C, losing means paper @ 2 points, draw means scissors @ 3 points, winning means rock @ 1 point.\n",
    "    if opponent_play == 'A':\n",
    "        if match_result == 'X':\n",
    "            result += 3\n",
    "        elif match_result == 'Y':\n",
    "            result += 1\n",
    "        elif match_result == 'Z':\n",
    "            result += 2\n",
    "            \n",
    "    elif opponent_play == 'B':\n",
    "        if match_result == 'X':\n",
    "            result += 1\n",
    "        elif match_result == 'Y':\n",
    "            result += 2\n",
    "        elif match_result == 'Z':\n",
    "            result += \n",
    "            \n",
    "    elif opponent_play == 'C':\n",
    "        if match_result == 'X':\n",
    "            result += 6\n",
    "        elif match_result == 'Y':\n",
    "            pass\n",
    "        elif match_result == 'Z':\n",
    "            result += 3\n",
    "\n",
    "    return result"
   ]
  }
 ],
 "metadata": {
  "kernelspec": {
   "display_name": "Python 3 (ipykernel)",
   "language": "python",
   "name": "python3"
  },
  "language_info": {
   "codemirror_mode": {
    "name": "ipython",
    "version": 3
   },
   "file_extension": ".py",
   "mimetype": "text/x-python",
   "name": "python",
   "nbconvert_exporter": "python",
   "pygments_lexer": "ipython3",
   "version": "3.9.18"
  }
 },
 "nbformat": 4,
 "nbformat_minor": 5
}
