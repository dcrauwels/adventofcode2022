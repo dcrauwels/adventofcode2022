{
 "cells": [
  {
   "cell_type": "markdown",
   "id": "7ffea10c",
   "metadata": {},
   "source": [
    "# Day 3: Rucksack Reorganization \n",
    "## Part one\n",
    "One Elf has the important job of loading all of the rucksacks with supplies for the jungle journey. Unfortunately, that Elf didn't quite follow the packing instructions, and so a few items now need to be rearranged.\n",
    "\n",
    "Each rucksack has two large compartments. All items of a given type are meant to go into exactly one of the two compartments. The Elf that did the packing failed to follow this rule for exactly one item type per rucksack.\n",
    "\n",
    "The Elves have made a list of all of the items currently in each rucksack (your puzzle input), but they need your help finding the errors. Every item type is identified by a single lowercase or uppercase letter (that is, a and A refer to different types of items).\n",
    "\n",
    "The list of items for each rucksack is given as characters all on a single line. A given rucksack always has the same number of items in each of its two compartments, so the first half of the characters represent items in the first compartment, while the second half of the characters represent items in the second compartment.\n",
    "\n",
    "For example, suppose you have the following list of contents from six rucksacks:\n",
    "\n",
    "    vJrwpWtwJgWrhcsFMMfFFhFp\n",
    "    jqHRNqRjqzjGDLGLrsFMfFZSrLrFZsSL\n",
    "    PmmdzqPrVvPwwTWBwg\n",
    "    wMqvLMZHhHMvwLHjbvcjnnSBnvTQFn\n",
    "    ttgJtRGJQctTZtZT\n",
    "    CrZsJsPPZsGzwwsLwLmpwMDw\n",
    "\n",
    "The first rucksack contains the items vJrwpWtwJgWrhcsFMMfFFhFp, which means its first compartment contains the items vJrwpWtwJgWr, while the second compartment contains the items hcsFMMfFFhFp. The only item type that appears in both compartments is lowercase p.\n",
    "\n",
    "The second rucksack's compartments contain jqHRNqRjqzjGDLGL and rsFMfFZSrLrFZsSL. The only item type that appears in both compartments is uppercase L.\n",
    "\n",
    "The third rucksack's compartments contain PmmdzqPrV and vPwwTWBwg; the only common item type is uppercase P.\n",
    "\n",
    "The fourth rucksack's compartments only share item type v.\n",
    "\n",
    "The fifth rucksack's compartments only share item type t.\n",
    "\n",
    "The sixth rucksack's compartments only share item type s.\n",
    "\n",
    "To help prioritize item rearrangement, every item type can be converted to a priority:\n",
    "\n",
    "Lowercase item types a through z have priorities 1 through 26.\n",
    "\n",
    "Uppercase item types A through Z have priorities 27 through 52.\n",
    "\n",
    "In the above example, the priority of the item type that appears in both compartments of each rucksack is 16 (p), 38 (L), 42 (P), 22 (v), 20 (t), and 19 (s); the sum of these is 157.\n",
    "\n",
    "Find the item type that appears in both compartments of each rucksack. What is the sum of the priorities of those item types?"
   ]
  },
  {
   "cell_type": "code",
   "execution_count": null,
   "id": "780c3309",
   "metadata": {},
   "outputs": [],
   "source": []
  },
  {
   "cell_type": "code",
   "execution_count": 1,
   "id": "e77bacfb",
   "metadata": {},
   "outputs": [
    {
     "name": "stdout",
     "output_type": "stream",
     "text": [
      "8088\n"
     ]
    }
   ],
   "source": [
    "# Construct priority dicts\n",
    "import string\n",
    "priority_dict = {}\n",
    "\n",
    "# Using enum here is a bit of a pain so I'll just def a func to run through twice\n",
    "def priority_dict_constructor(priority_dict, letter_range, start):\n",
    "    priority = start\n",
    "    for letter in letter_range:\n",
    "        priority_dict[letter] = priority\n",
    "        priority += 1\n",
    "    return priority_dict\n",
    "\n",
    "# Two runs, lowercase and uppercase\n",
    "priority_dict = priority_dict_constructor(priority_dict, string.ascii_lowercase[:26], 1)\n",
    "priority_dict = priority_dict_constructor(priority_dict, string.ascii_uppercase[:26], 27)\n",
    "\n",
    "# Define function for finding duplicate item\n",
    "def find_duplicates(line):\n",
    "    \n",
    "    # Define function for splitting line\n",
    "    def split_line(line):\n",
    "        \n",
    "        # Basic variables\n",
    "        line_length = len(line)\n",
    "        cutoff_length = int(line_length / 2)\n",
    "        return line[:cutoff_length], line[cutoff_length:]\n",
    "        \n",
    "    two_halves = split_line(line)\n",
    "    \n",
    "    # Find overlapping value\n",
    "    result = [letter for letter in two_halves[0] if letter in two_halves[1]]\n",
    "    \n",
    "    # Return first value (some have multiple overlaps but they're the same letter)\n",
    "    return set(result).pop()\n",
    "    \n",
    "# Open 03 input.txt\n",
    "with open('03 input.txt', 'r') as f:\n",
    "    rucksack_contents = f.readlines()\n",
    "    rucksack_contents = map(str.strip, rucksack_contents)\n",
    "    \n",
    "# Calculate sum of duplicates\n",
    "duplicate_sum = 0\n",
    "for line in rucksack_contents:\n",
    "    duplicate = find_duplicates(line)\n",
    "    duplicate_sum += priority_dict[duplicate]\n",
    "    \n",
    "print(duplicate_sum)"
   ]
  },
  {
   "cell_type": "markdown",
   "id": "3a97cae9",
   "metadata": {},
   "source": [
    "Correct!"
   ]
  },
  {
   "cell_type": "markdown",
   "id": "7f1e23dc",
   "metadata": {},
   "source": [
    "## Part Two\n",
    "As you finish identifying the misplaced items, the Elves come to you with another issue.\n",
    "\n",
    "For safety, the Elves are divided into groups of three. Every Elf carries a badge that identifies their group. For efficiency, within each group of three Elves, the badge is the only item type carried by all three Elves. That is, if a group's badge is item type B, then all three Elves will have item type B somewhere in their rucksack, and at most two of the Elves will be carrying any other item type.\n",
    "\n",
    "The problem is that someone forgot to put this year's updated authenticity sticker on the badges. All of the badges need to be pulled out of the rucksacks so the new authenticity stickers can be attached.\n",
    "\n",
    "Additionally, nobody wrote down which item type corresponds to each group's badges. The only way to tell which item type is the right one is by finding the one item type that is common between all three Elves in each group.\n",
    "\n",
    "Every set of three lines in your list corresponds to a single group, but each group can have a different badge item type. So, in the above example, the first group's rucksacks are the first three lines:\n",
    "\n",
    "    vJrwpWtwJgWrhcsFMMfFFhFp\n",
    "    jqHRNqRjqzjGDLGLrsFMfFZSrLrFZsSL\n",
    "    PmmdzqPrVvPwwTWBwg\n",
    "And the second group's rucksacks are the next three lines:\n",
    "\n",
    "    wMqvLMZHhHMvwLHjbvcjnnSBnvTQFn\n",
    "    ttgJtRGJQctTZtZT\n",
    "    CrZsJsPPZsGzwwsLwLmpwMDw\n",
    "In the first group, the only item type that appears in all three rucksacks is lowercase r; this must be their badges. In the second group, their badge item type must be Z.\n",
    "\n",
    "Priorities for these items must still be found to organize the sticker attachment efforts: here, they are 18 (r) for the first \n",
    "group and 52 (Z) for the second group. The sum of these is 70.\n",
    "\n",
    "Find the item type that corresponds to the badges of each three-Elf group. What is the sum of the priorities of those item types?"
   ]
  },
  {
   "cell_type": "code",
   "execution_count": 16,
   "id": "d45f2367",
   "metadata": {},
   "outputs": [
    {
     "name": "stdout",
     "output_type": "stream",
     "text": [
      "2522\n"
     ]
    }
   ],
   "source": [
    "# Two parts to this assignment:\n",
    "# 1. Make a new find_duplicates() function\n",
    "# 2. Feed it sets of three lines\n",
    "\n",
    "# We rewrite the find_duplicates() function:\n",
    "def find_triplicates(line1, line2, line3):\n",
    "    \n",
    "    # Find overlapping value\n",
    "    result = [letter for letter in line1 if letter in line2 and letter in line3]\n",
    "    \n",
    "    # Return first value (some have multiple overlaps but they're the same letter)\n",
    "    return set(result).pop()\n",
    "\n",
    "# Open 03 input.txt\n",
    "with open('03 input.txt', 'r') as f:\n",
    "    rucksack_contents = f.readlines()\n",
    "    rucksack_contents = map(str.strip, rucksack_contents)\n",
    "\n",
    "# We feed it sets of three lines:\n",
    "elf_group = []\n",
    "badge_sum = 0\n",
    "for line in list(rucksack_contents):\n",
    "    elf_group.append(line)\n",
    "    if len(elf_group) == 3:\n",
    "        badge_sum += priority_dict[find_triplicates(elf_group[0], elf_group[1], elf_group[2])]\n",
    "        elf_group = []\n",
    "\n",
    "print(badge_sum)\n",
    "    "
   ]
  },
  {
   "cell_type": "code",
   "execution_count": null,
   "id": "85f4fa4c",
   "metadata": {},
   "outputs": [],
   "source": []
  }
 ],
 "metadata": {
  "kernelspec": {
   "display_name": "Python 3 (ipykernel)",
   "language": "python",
   "name": "python3"
  },
  "language_info": {
   "codemirror_mode": {
    "name": "ipython",
    "version": 3
   },
   "file_extension": ".py",
   "mimetype": "text/x-python",
   "name": "python",
   "nbconvert_exporter": "python",
   "pygments_lexer": "ipython3",
   "version": "3.9.18"
  }
 },
 "nbformat": 4,
 "nbformat_minor": 5
}
