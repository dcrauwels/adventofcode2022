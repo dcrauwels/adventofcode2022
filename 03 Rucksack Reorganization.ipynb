{
 "cells": [
  {
   "cell_type": "markdown",
   "id": "6d75bc08",
   "metadata": {},
   "source": [
    "https://adventofcode.com/2022/day/3"
   ]
  },
  {
   "cell_type": "markdown",
   "id": "5d43c449",
   "metadata": {},
   "source": [
    "# Day 3: Rucksack Reorganization \n",
    "## Part one\n",
    "\n",
    "Find the item type that appears in both compartments of each rucksack. What is the sum of the priorities of those item types?"
   ]
  },
  {
   "cell_type": "code",
   "execution_count": 1,
   "id": "1d3289c8",
   "metadata": {},
   "outputs": [
    {
     "name": "stdout",
     "output_type": "stream",
     "text": [
      "8088\n"
     ]
    }
   ],
   "source": [
    "# Construct priority dicts\n",
    "import string\n",
    "priority_dict = {}\n",
    "\n",
    "# Using enum here is a bit of a pain so I'll just def a func to run through twice\n",
    "def priority_dict_constructor(priority_dict, letter_range, start):\n",
    "    priority = start\n",
    "    for letter in letter_range:\n",
    "        priority_dict[letter] = priority\n",
    "        priority += 1\n",
    "    return priority_dict\n",
    "\n",
    "# Two runs, lowercase and uppercase\n",
    "priority_dict = priority_dict_constructor(priority_dict, string.ascii_lowercase[:26], 1)\n",
    "priority_dict = priority_dict_constructor(priority_dict, string.ascii_uppercase[:26], 27)\n",
    "\n",
    "# Define function for finding duplicate item\n",
    "def find_duplicates(line):\n",
    "    \n",
    "    # Define function for splitting line\n",
    "    def split_line(line):\n",
    "        \n",
    "        # Basic variables\n",
    "        line_length = len(line)\n",
    "        cutoff_length = int(line_length / 2)\n",
    "        return line[:cutoff_length], line[cutoff_length:]\n",
    "        \n",
    "    two_halves = split_line(line)\n",
    "    \n",
    "    # Find overlapping value\n",
    "    result = [letter for letter in two_halves[0] if letter in two_halves[1]]\n",
    "    \n",
    "    # Return first value (some have multiple overlaps but they're the same letter)\n",
    "    return set(result).pop()\n",
    "    \n",
    "# Open 03 input.txt\n",
    "with open('03 input.txt', 'r') as f:\n",
    "    rucksack_contents = f.readlines()\n",
    "    rucksack_contents = map(str.strip, rucksack_contents)\n",
    "    \n",
    "# Calculate sum of duplicates\n",
    "duplicate_sum = 0\n",
    "for line in rucksack_contents:\n",
    "    duplicate = find_duplicates(line)\n",
    "    duplicate_sum += priority_dict[duplicate]\n",
    "    \n",
    "print(duplicate_sum)"
   ]
  },
  {
   "cell_type": "markdown",
   "id": "e587963c",
   "metadata": {},
   "source": [
    "Correct!"
   ]
  },
  {
   "cell_type": "markdown",
   "id": "e59ea9ae",
   "metadata": {},
   "source": [
    "## Part Two\n",
    "\n",
    "Find the item type that corresponds to the badges of each three-Elf group. What is the sum of the priorities of those item types?"
   ]
  },
  {
   "cell_type": "code",
   "execution_count": 2,
   "id": "7301b009",
   "metadata": {},
   "outputs": [
    {
     "name": "stdout",
     "output_type": "stream",
     "text": [
      "2522\n"
     ]
    }
   ],
   "source": [
    "# Two parts to this assignment:\n",
    "# 1. Make a new find_duplicates() function\n",
    "# 2. Feed it sets of three lines\n",
    "\n",
    "# We rewrite the find_duplicates() function:\n",
    "def find_triplicates(line1, line2, line3):\n",
    "    \n",
    "    # Find overlapping value\n",
    "    result = [letter for letter in line1 if letter in line2 and letter in line3]\n",
    "    \n",
    "    # Return first value (some have multiple overlaps but they're the same letter)\n",
    "    return set(result).pop()\n",
    "\n",
    "# Open 03 input.txt\n",
    "with open('03 input.txt', 'r') as f:\n",
    "    rucksack_contents = f.readlines()\n",
    "    rucksack_contents = map(str.strip, rucksack_contents)\n",
    "\n",
    "# We feed it sets of three lines:\n",
    "elf_group = []\n",
    "badge_sum = 0\n",
    "for line in list(rucksack_contents):\n",
    "    elf_group.append(line)\n",
    "    if len(elf_group) == 3:\n",
    "        badge_sum += priority_dict[find_triplicates(elf_group[0], elf_group[1], elf_group[2])]\n",
    "        elf_group = []\n",
    "\n",
    "print(badge_sum)\n",
    "    "
   ]
  },
  {
   "cell_type": "markdown",
   "id": "6bf1c347",
   "metadata": {},
   "source": [
    "Another W"
   ]
  },
  {
   "cell_type": "code",
   "execution_count": null,
   "id": "916d736d",
   "metadata": {},
   "outputs": [],
   "source": []
  }
 ],
 "metadata": {
  "kernelspec": {
   "display_name": "Python 3 (ipykernel)",
   "language": "python",
   "name": "python3"
  },
  "language_info": {
   "codemirror_mode": {
    "name": "ipython",
    "version": 3
   },
   "file_extension": ".py",
   "mimetype": "text/x-python",
   "name": "python",
   "nbconvert_exporter": "python",
   "pygments_lexer": "ipython3",
   "version": "3.9.13"
  }
 },
 "nbformat": 4,
 "nbformat_minor": 5
}
