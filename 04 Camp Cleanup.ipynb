{
 "cells": [
  {
   "cell_type": "markdown",
   "id": "f06dc3e2",
   "metadata": {},
   "source": [
    "# Day 4: Camp Cleanup\n",
    "## Part One\n"
   ]
  },
  {
   "cell_type": "code",
   "execution_count": 1,
   "id": "e259d729",
   "metadata": {},
   "outputs": [],
   "source": [
    "## In how many assignment pairs does one range fully contain the other? ##"
   ]
  },
  {
   "cell_type": "code",
   "execution_count": 45,
   "id": "0b420d14",
   "metadata": {},
   "outputs": [],
   "source": [
    "# Global variables\n",
    "\n",
    "## Hold number of contained pairs\n",
    "contained_pairs = 0\n",
    "\n",
    "## Read input.txt and strip '\\n'\n",
    "with open('04 input.txt', 'r') as f:\n",
    "    input = f.readlines()\n",
    "input = map(str.strip, input)"
   ]
  },
  {
   "cell_type": "code",
   "execution_count": 46,
   "id": "544bc181",
   "metadata": {},
   "outputs": [],
   "source": [
    "# Functions\n",
    "\n",
    "## Return int: index of dash char in elf assignment\n",
    "def dash_finder(s):\n",
    "    return s.find('-')\n",
    "\n",
    "## Return tuple: lower and upper bound of assignment\n",
    "def assignment_bounds(s):\n",
    "    dash_index = dash_finder(s)\n",
    "    lower_bound = int(s[:dash_index])\n",
    "    upper_bound = int(s[dash_index+1:])\n",
    "    return (lower_bound, upper_bound)\n",
    "\n",
    "## Return bool: tuple1 within tuple2\n",
    "def tuple_contained(t1, t2):\n",
    "    lower = t1[0] >= t2[0]\n",
    "    upper = t1[1] <= t2[1]\n",
    "    return lower and upper"
   ]
  },
  {
   "cell_type": "code",
   "execution_count": 47,
   "id": "a5e40044",
   "metadata": {},
   "outputs": [
    {
     "name": "stdout",
     "output_type": "stream",
     "text": [
      "485\n"
     ]
    }
   ],
   "source": [
    "# Main\n",
    "\n",
    "## Prepare input for processing\n",
    "pair_list = map(lambda x : str.split(x, sep = ','), input)\n",
    "\n",
    "## Iterate over elf_list\n",
    "for elf1, elf2 in pair_list:\n",
    "    elf1_ass = assignment_bounds(elf1) #ass for assignments, obviously\n",
    "    elf2_ass = assignment_bounds(elf2)\n",
    "    if tuple_contained(elf1_ass, elf2_ass) or tuple_contained(elf2_ass, elf1_ass):\n",
    "        contained_pairs += 1\n",
    "        \n",
    "print(contained_pairs)\n"
   ]
  },
  {
   "cell_type": "markdown",
   "id": "e6d967ce",
   "metadata": {},
   "source": [
    "Correct!"
   ]
  },
  {
   "cell_type": "markdown",
   "id": "0c779e57",
   "metadata": {},
   "source": [
    "## Part Two\n",
    "In how many assignment pairs do the ranges overlap?"
   ]
  },
  {
   "cell_type": "code",
   "execution_count": 75,
   "id": "87815124",
   "metadata": {},
   "outputs": [],
   "source": [
    "# Global variables\n",
    "\n",
    "## Hold number of contained pairs\n",
    "overlap_pairs = 0\n",
    "\n",
    "## Read input.txt and strip '\\n'\n",
    "with open('04 input.txt', 'r') as f:\n",
    "    input = f.readlines()\n",
    "input = map(str.strip, input)"
   ]
  },
  {
   "cell_type": "code",
   "execution_count": 76,
   "id": "f02a4a3d",
   "metadata": {},
   "outputs": [],
   "source": [
    "# Functions\n",
    "\n",
    "## Return int: index of dash char in elf assignment\n",
    "def dash_finder(s):\n",
    "    return s.find('-')\n",
    "\n",
    "## Return range: lower and upper bound of assignment\n",
    "def assignment_range(s):\n",
    "    dash_index = dash_finder(s)\n",
    "    lower_bound = int(s[:dash_index])\n",
    "    upper_bound = int(s[dash_index+1:])\n",
    "    return range(lower_bound, upper_bound+1)\n",
    "\n",
    "## Return bool: overlap between range1 and range2 larger than 0\n",
    "def range_overlapping(r1, r2):\n",
    "    overlap = range(max(r1.start, r2.start), min(r1.stop, r2.stop)) #ty stackoverflow\n",
    "    return len(overlap) > 0\n"
   ]
  },
  {
   "cell_type": "code",
   "execution_count": 77,
   "id": "48240f8b",
   "metadata": {},
   "outputs": [
    {
     "name": "stdout",
     "output_type": "stream",
     "text": [
      "857\n"
     ]
    }
   ],
   "source": [
    "# Main\n",
    "\n",
    "## Prepare input for processing\n",
    "pair_list = map(lambda x : str.split(x, sep = ','), input)\n",
    "\n",
    "## Iterate over elf_list\n",
    "for elf1, elf2 in pair_list:\n",
    "    elf1_range = assignment_range(elf1)\n",
    "    elf2_range = assignment_range(elf2)\n",
    "    if range_overlapping(elf1_range, elf2_range):\n",
    "        overlap_pairs += 1\n",
    "        #print(elf1, elf2) #for debugging purposes\n",
    "        \n",
    "print(overlap_pairs)"
   ]
  },
  {
   "cell_type": "markdown",
   "id": "8aac67e1",
   "metadata": {},
   "source": [
    "Made an initial mistake in the ranges: should have thought of the fact that the upper bound on a range is non-inclusive. 857 is correct."
   ]
  },
  {
   "cell_type": "code",
   "execution_count": null,
   "id": "a90f2d19",
   "metadata": {},
   "outputs": [],
   "source": []
  }
 ],
 "metadata": {
  "kernelspec": {
   "display_name": "Python 3 (ipykernel)",
   "language": "python",
   "name": "python3"
  },
  "language_info": {
   "codemirror_mode": {
    "name": "ipython",
    "version": 3
   },
   "file_extension": ".py",
   "mimetype": "text/x-python",
   "name": "python",
   "nbconvert_exporter": "python",
   "pygments_lexer": "ipython3",
   "version": "3.9.13"
  }
 },
 "nbformat": 4,
 "nbformat_minor": 5
}
